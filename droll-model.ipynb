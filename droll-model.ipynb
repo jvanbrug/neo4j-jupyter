{
 "cells": [
  {
   "cell_type": "markdown",
   "metadata": {
    "slideshow": {
     "slide_type": "slide"
    }
   },
   "source": [
    "# The 10-Minute Modeling Tool\n",
    "\n",
    "Let's build a modeling tool in 10 minutes!\n",
    "\n",
    "We'll use [Neo4j](http://neo4j.com/) for data storage, [Python](https://www.python.org/) for data processing, [vis.js](http://visjs.org/) for data visualization.\n",
    "\n",
    "## Neo4j\n",
    "\n",
    "From [Wikipedia's Neo4j article](https://en.wikipedia.org/wiki/Neo4j) (with ephasis by me):\n",
    "\n",
    "> Neo4j is an **open-source graph database** implemented in Java and **accessible from software written in other languages** using the **Cypher query language** through a transactional HTTP endpoint. The developers describe Neo4j as an ACID-compliant transactional database with native graph storage and processing. **Neo4j is the most popular graph database.**\n",
    "\n",
    "A graph database is simply a set of **nodes** (things) and **relationships** (pairs of things). Both nodes and relationships can have labels or properties associated with them. Graph-traversal algorithms (both built-in and custom-built) read the properties of nodes and traverse the relationships between them to return nodes and relationships of interest.\n",
    "\n",
    "## 10-second overview\n",
    "\n",
    "In this session, we'll connect to the blank Neo4j database running on our local server.\n",
    "\n",
    "Then, we'll populate it with nodes that will define:\n",
    "\n",
    "* a \"model element\"\n",
    "* a \"model connection\"\n",
    "* our metamodel \\*\n",
    "* our project model\n",
    "* our project data\n",
    "\n",
    "and relationships that will define:\n",
    "\n",
    "* how our metamodel \\* conforms to the idea of \"elements\" and \"connections\"\n",
    "* how our project model conforms to our metamodel \\*\n",
    "* how our project data conforms to our project model\n",
    "\n",
    "Finally, we'll query our database and obtain useful views of our data, as well as suggestions for what additional data could be defined (what to ask our stakeholders).\n",
    "\n",
    "\\* We'll use a subset of UML in this session, but any metamodel is possible - SysML, UML, multi-layed ontologies, etc.\n",
    "\n",
    "## Jack and Jill and Kidney Failure\n",
    "\n",
    "Jack needs a kidney transplant or he will die. We will find him a donor with modeling!"
   ]
  },
  {
   "cell_type": "markdown",
   "metadata": {
    "slideshow": {
     "slide_type": "slide"
    }
   },
   "source": [
    "## Connect to the Neo4j Database\n",
    "\n",
    "First we'll connect to the database and delete any existing nodes and relationships.\n",
    "\n",
    "We'll communicate with Neo4j through the `py2neo` Python library."
   ]
  },
  {
   "cell_type": "code",
   "execution_count": 1,
   "metadata": {
    "collapsed": false,
    "slideshow": {
     "slide_type": "fragment"
    }
   },
   "outputs": [],
   "source": [
    "from py2neo import authenticate, Graph\n",
    "from py2neo.error import Unauthorized\n",
    "\n",
    "graph = Graph()\n",
    "\n",
    "try:\n",
    "    graph.delete_all()\n",
    "except Unauthorized:\n",
    "    # If you have a username/password, replace neo4j/password with your username/password\n",
    "    authenticate('localhost:7474', 'neo4j', 'password')\n",
    "    graph.delete_all()"
   ]
  },
  {
   "cell_type": "markdown",
   "metadata": {
    "slideshow": {
     "slide_type": "slide"
    }
   },
   "source": [
    "## Element and Connection\n",
    "\n",
    "Modeling is all about elements and connections. Similarly, graphs are all about nodes and relationships.\n",
    "\n",
    "We'll draw a clear distinction between element/connection and node/relationship right now - **both elements and connections are nodes.**\n",
    "\n",
    "##### Connections are Nodes?\n",
    "\n",
    "Connections have a lot of information in them - a connection's source and target are specific elements, and its generalization and specializations are other specific connections.\n",
    "\n",
    "Because a connection has relationships to those elements and connections, it cannot be a relationship itself. **Relationships do not have relationships.**\n",
    "\n",
    "#### Let's define our first nodes!"
   ]
  },
  {
   "cell_type": "code",
   "execution_count": 2,
   "metadata": {
    "collapsed": false,
    "scrolled": true,
    "slideshow": {
     "slide_type": "fragment"
    }
   },
   "outputs": [
    {
     "data": {
      "text/html": [
       "\n",
       "        <iframe\n",
       "            width=\"100%\"\n",
       "            height=\"400\"\n",
       "            src=\"figure/graph-e1d90a96-cf96-4174-a19d-84242f15759b.html\"\n",
       "            frameborder=\"0\"\n",
       "            allowfullscreen\n",
       "        ></iframe>\n",
       "        "
      ],
      "text/plain": [
       "<IPython.lib.display.IFrame at 0x3f4c570>"
      ]
     },
     "execution_count": 2,
     "metadata": {},
     "output_type": "execute_result"
    }
   ],
   "source": [
    "from py2neo import Node\n",
    "from scripts.vis import draw\n",
    "\n",
    "# Neo4j nodes are defined by labels and properties\n",
    "element = Node(\n",
    "    'Element',      # label\n",
    "    name='element'  # property\n",
    ")\n",
    "graph.create(element)\n",
    "\n",
    "connection = Node('Connection', name='connection')\n",
    "graph.create(connection)\n",
    "\n",
    "# This function draws all of the graph's nodes and relationships in a bouncy vis.js visualization - drag the nodes around!\n",
    "draw(graph)"
   ]
  },
  {
   "cell_type": "markdown",
   "metadata": {
    "slideshow": {
     "slide_type": "subslide"
    }
   },
   "source": [
    "Elements connect to other elements through connections, so elements are the sources and targets of connections.\n",
    "\n",
    "We'll define relationships with a subject, verb, and object.\n",
    "\n",
    "In the below cell, the relationships are **an element is the source of a connection** and **an element is the target of a connection**."
   ]
  },
  {
   "cell_type": "code",
   "execution_count": 3,
   "metadata": {
    "collapsed": false,
    "slideshow": {
     "slide_type": "fragment"
    }
   },
   "outputs": [
    {
     "data": {
      "text/html": [
       "\n",
       "        <iframe\n",
       "            width=\"100%\"\n",
       "            height=\"400\"\n",
       "            src=\"figure/graph-1320f870-aa7f-4f93-9f68-18df83629b2c.html\"\n",
       "            frameborder=\"0\"\n",
       "            allowfullscreen\n",
       "        ></iframe>\n",
       "        "
      ],
      "text/plain": [
       "<IPython.lib.display.IFrame at 0x41d21b0>"
      ]
     },
     "execution_count": 3,
     "metadata": {},
     "output_type": "execute_result"
    }
   ],
   "source": [
    "from py2neo import Relationship\n",
    "\n",
    "# Neo4j relationships are mostly defined by a string label, as relationships do not inherit or relate to anything else.\n",
    "IS_THE_SOURCE_OF = 'IS_THE_SOURCE_OF'\n",
    "IS_THE_TARGET_OF = 'IS_THE_TARGET_OF'\n",
    "\n",
    "graph.create(Relationship(element, IS_THE_SOURCE_OF, connection))\n",
    "graph.create(Relationship(element, IS_THE_TARGET_OF, connection))\n",
    "\n",
    "# Unfortunately, vis.js draws relationships on top of each other - \"IS_THE_TARGET_OF\" is underneath \"IS_THE_SOURCE_OF\".\n",
    "draw(graph)"
   ]
  },
  {
   "cell_type": "markdown",
   "metadata": {
    "slideshow": {
     "slide_type": "slide"
    }
   },
   "source": [
    "## Metamodel Elements\n",
    "\n",
    "Now we need a metamodel - the logical framework that will eventually structure our model. For this project, we'll use a handful of elements and connections from UML, but the entirety of SysML can be defined in this same way.\n",
    "\n",
    "We'll define Class, Abstract Class, and Interface"
   ]
  },
  {
   "cell_type": "code",
   "execution_count": 4,
   "metadata": {
    "collapsed": false,
    "slideshow": {
     "slide_type": "fragment"
    }
   },
   "outputs": [
    {
     "data": {
      "text/html": [
       "\n",
       "        <iframe\n",
       "            width=\"100%\"\n",
       "            height=\"400\"\n",
       "            src=\"figure/graph-55c49af1-1be7-4c6a-a726-2f1aef5f74df.html\"\n",
       "            frameborder=\"0\"\n",
       "            allowfullscreen\n",
       "        ></iframe>\n",
       "        "
      ],
      "text/plain": [
       "<IPython.lib.display.IFrame at 0x41d3e90>"
      ]
     },
     "execution_count": 4,
     "metadata": {},
     "output_type": "execute_result"
    }
   ],
   "source": [
    "class_ = Node('Metamodel Element', name='class')\n",
    "abstract_class = Node('Metamodel Element', name='abstract class')\n",
    "interface = Node('Metamodel Element', name='interface')\n",
    "\n",
    "graph.create(class_, abstract_class, interface)\n",
    "\n",
    "draw(graph)"
   ]
  },
  {
   "cell_type": "markdown",
   "metadata": {
    "collapsed": true,
    "slideshow": {
     "slide_type": "slide"
    }
   },
   "source": [
    "### Relating the metamodel\n",
    "\n",
    "Class, Abstract Class, and Interface are all elements, so we relate the metamodel element nodes to the element node."
   ]
  },
  {
   "cell_type": "code",
   "execution_count": 5,
   "metadata": {
    "collapsed": false,
    "scrolled": true,
    "slideshow": {
     "slide_type": "fragment"
    }
   },
   "outputs": [
    {
     "data": {
      "text/html": [
       "\n",
       "        <iframe\n",
       "            width=\"100%\"\n",
       "            height=\"400\"\n",
       "            src=\"figure/graph-3029cb8a-2e8e-4fb6-9d5d-a874e574f513.html\"\n",
       "            frameborder=\"0\"\n",
       "            allowfullscreen\n",
       "        ></iframe>\n",
       "        "
      ],
      "text/plain": [
       "<IPython.lib.display.IFrame at 0x41d3f90>"
      ]
     },
     "execution_count": 5,
     "metadata": {},
     "output_type": "execute_result"
    }
   ],
   "source": [
    "IS_A_TYPE_OF = 'IS_A_TYPE_OF'\n",
    "\n",
    "graph.create(Relationship(class_,         IS_A_TYPE_OF, element))\n",
    "graph.create(Relationship(abstract_class, IS_A_TYPE_OF, class_ ))\n",
    "graph.create(Relationship(interface,      IS_A_TYPE_OF, element))\n",
    "\n",
    "draw(graph)"
   ]
  },
  {
   "cell_type": "markdown",
   "metadata": {
    "slideshow": {
     "slide_type": "slide"
    }
   },
   "source": [
    "## Metamodel Connections\n",
    "\n",
    "The metamodel also contains connections between its elements, such as \"a Class implements an Interface\".\n",
    "\n",
    "Let's create these connections and their relationships at the same time."
   ]
  },
  {
   "cell_type": "code",
   "execution_count": 6,
   "metadata": {
    "collapsed": false,
    "scrolled": true,
    "slideshow": {
     "slide_type": "fragment"
    }
   },
   "outputs": [
    {
     "data": {
      "text/html": [
       "\n",
       "        <iframe\n",
       "            width=\"100%\"\n",
       "            height=\"400\"\n",
       "            src=\"figure/graph-afcaadcc-dd27-41eb-94ef-282ac422d6cb.html\"\n",
       "            frameborder=\"0\"\n",
       "            allowfullscreen\n",
       "        ></iframe>\n",
       "        "
      ],
      "text/plain": [
       "<IPython.lib.display.IFrame at 0x4203a70>"
      ]
     },
     "execution_count": 6,
     "metadata": {},
     "output_type": "execute_result"
    }
   ],
   "source": [
    "composes = Node('Metamodel Connection', name='composes')\n",
    "graph.create(Relationship(composes, IS_A_TYPE_OF, connection))\n",
    "graph.create(Relationship(class_, IS_THE_SOURCE_OF, composes))\n",
    "graph.create(Relationship(class_, IS_THE_TARGET_OF, composes))\n",
    "\n",
    "generalizes = Node('Metamodel Connection', name='generalizes')\n",
    "graph.create(Relationship(generalizes, IS_A_TYPE_OF, connection))\n",
    "graph.create(Relationship(class_, IS_THE_SOURCE_OF, generalizes))\n",
    "graph.create(Relationship(class_, IS_THE_TARGET_OF, generalizes))\n",
    "\n",
    "implements = Node('Metamodel Connection', name='implements')\n",
    "graph.create(Relationship(implements, IS_A_TYPE_OF, connection))\n",
    "graph.create(Relationship(class_,    IS_THE_SOURCE_OF, implements))\n",
    "graph.create(Relationship(interface, IS_THE_TARGET_OF, implements))\n",
    "\n",
    "draw(graph)"
   ]
  },
  {
   "cell_type": "markdown",
   "metadata": {
    "slideshow": {
     "slide_type": "slide"
    }
   },
   "source": [
    "The relationships within the metamodel are highlighted in black.\n",
    "\n",
    "Drag nodes around to get a better view of the relationships."
   ]
  },
  {
   "cell_type": "markdown",
   "metadata": {
    "slideshow": {
     "slide_type": "slide"
    }
   },
   "source": [
    "## Model Elements\n",
    "\n",
    "Let's define our project model - in order to find Jack a kidney donor, we'll need to model the following:\n",
    "\n",
    "* humans\n",
    "* kidneys\n",
    "* blood types\n",
    "* friendship\n",
    "* dogs\n",
    "* octopuses\n",
    "\n",
    "Obviously we need to model dogs and octopuses in order to be thorough about this kidney search."
   ]
  },
  {
   "cell_type": "code",
   "execution_count": 7,
   "metadata": {
    "collapsed": false,
    "slideshow": {
     "slide_type": "fragment"
    }
   },
   "outputs": [
    {
     "data": {
      "text/html": [
       "\n",
       "        <iframe\n",
       "            width=\"100%\"\n",
       "            height=\"400\"\n",
       "            src=\"figure/graph-4ffc30fd-c54c-4232-b7cb-44d71b306d42.html\"\n",
       "            frameborder=\"0\"\n",
       "            allowfullscreen\n",
       "        ></iframe>\n",
       "        "
      ],
      "text/plain": [
       "<IPython.lib.display.IFrame at 0x420bd50>"
      ]
     },
     "execution_count": 7,
     "metadata": {},
     "output_type": "execute_result"
    }
   ],
   "source": [
    "animal = Node('Model Element', name='animal')\n",
    "graph.create(Relationship(animal, IS_A_TYPE_OF, abstract_class))\n",
    "\n",
    "vertebrate = Node('Model Element', name='vertebrate')\n",
    "graph.create(Relationship(vertebrate, IS_A_TYPE_OF, interface))\n",
    "\n",
    "human = Node('Model Element', name='human')\n",
    "graph.create(Relationship(human, IS_A_TYPE_OF, animal))\n",
    "\n",
    "dog = Node('Model Element', name='dog')\n",
    "graph.create(Relationship(dog, IS_A_TYPE_OF, animal))\n",
    "\n",
    "octopus = Node('Model Element', name='octopus')\n",
    "graph.create(Relationship(octopus, IS_A_TYPE_OF, animal))\n",
    "\n",
    "organ = Node('Model Element', name='organ')\n",
    "graph.create(Relationship(organ, IS_A_TYPE_OF, abstract_class))\n",
    "\n",
    "kidney = Node('Model Element', name='kidney')\n",
    "graph.create(Relationship(kidney, IS_A_TYPE_OF, organ))\n",
    "\n",
    "blood_type = Node('Model Element', name='blood type')\n",
    "graph.create(Relationship(blood_type, IS_A_TYPE_OF, class_))\n",
    "\n",
    "draw(graph, labels=['Model Element'])"
   ]
  },
  {
   "cell_type": "markdown",
   "metadata": {
    "slideshow": {
     "slide_type": "slide"
    }
   },
   "source": [
    "The above visualization is only a subset of the entire graph.\n",
    "\n",
    "From now on, after adding to the graph, we'll view it in multiple stages, zooming out from the new nodes to see the entire graph.\n",
    "\n",
    "Zoom in/out (by scrolling), pan (by dragging the white background), and drag nodes around to get a better view of all these graphs."
   ]
  },
  {
   "cell_type": "code",
   "execution_count": 8,
   "metadata": {
    "collapsed": false,
    "slideshow": {
     "slide_type": "fragment"
    }
   },
   "outputs": [
    {
     "data": {
      "text/html": [
       "\n",
       "        <iframe\n",
       "            width=\"100%\"\n",
       "            height=\"400\"\n",
       "            src=\"figure/graph-3edf1a05-e4e9-43a0-a5fd-35b889e42b85.html\"\n",
       "            frameborder=\"0\"\n",
       "            allowfullscreen\n",
       "        ></iframe>\n",
       "        "
      ],
      "text/plain": [
       "<IPython.lib.display.IFrame at 0x41e0c30>"
      ]
     },
     "execution_count": 8,
     "metadata": {},
     "output_type": "execute_result"
    }
   ],
   "source": [
    "draw(graph)"
   ]
  },
  {
   "cell_type": "markdown",
   "metadata": {
    "slideshow": {
     "slide_type": "slide"
    }
   },
   "source": [
    "## Model Connections\n",
    "\n",
    "To define how these model elements connect, we not only **sub-type existing** connection elements, we also **create new** connection elements.\n",
    "\n",
    "\"A human is a type of animal\" is a connection that we define for model completeness, but \"a dog has a blood type\" exists to enable specific dogs and specific blood types to connect when we input our dog and blood type data."
   ]
  },
  {
   "cell_type": "code",
   "execution_count": 9,
   "metadata": {
    "collapsed": false,
    "scrolled": false,
    "slideshow": {
     "slide_type": "fragment"
    }
   },
   "outputs": [
    {
     "data": {
      "text/html": [
       "\n",
       "        <iframe\n",
       "            width=\"100%\"\n",
       "            height=\"400\"\n",
       "            src=\"figure/graph-15670a66-87cd-4c37-a6d8-e41171f89da1.html\"\n",
       "            frameborder=\"0\"\n",
       "            allowfullscreen\n",
       "        ></iframe>\n",
       "        "
      ],
      "text/plain": [
       "<IPython.lib.display.IFrame at 0x4272bb0>"
      ]
     },
     "execution_count": 9,
     "metadata": {},
     "output_type": "execute_result"
    }
   ],
   "source": [
    "animal__generalizes__human = Node('Model Connection', name='animal generalizes human')\n",
    "graph.create(Relationship(animal__generalizes__human, IS_A_TYPE_OF, generalizes))\n",
    "graph.create(Relationship(animal, IS_THE_SOURCE_OF, animal__generalizes__human))\n",
    "graph.create(Relationship(human,  IS_THE_TARGET_OF, animal__generalizes__human))\n",
    "\n",
    "animal__generalizes__dog = Node('Model Connection', name='animal generalizes dog')\n",
    "graph.create(Relationship(animal__generalizes__dog, IS_A_TYPE_OF, generalizes))\n",
    "graph.create(Relationship(animal, IS_THE_SOURCE_OF, animal__generalizes__dog))\n",
    "graph.create(Relationship(dog,    IS_THE_TARGET_OF, animal__generalizes__dog))\n",
    "\n",
    "animal__generalizes__octopus = Node('Model Connection', name='animal generalizes octopus')\n",
    "graph.create(Relationship(animal__generalizes__octopus, IS_A_TYPE_OF, generalizes))\n",
    "graph.create(Relationship(animal,  IS_THE_SOURCE_OF, animal__generalizes__octopus))\n",
    "graph.create(Relationship(octopus, IS_THE_TARGET_OF, animal__generalizes__octopus))\n",
    "\n",
    "human__implements__vertebrate = Node('Model Connection', name='human implements vertebrate')\n",
    "graph.create(Relationship(human__implements__vertebrate, IS_A_TYPE_OF, implements))\n",
    "graph.create(Relationship(human,      IS_THE_SOURCE_OF, human__implements__vertebrate))\n",
    "graph.create(Relationship(vertebrate, IS_THE_TARGET_OF, human__implements__vertebrate))\n",
    "\n",
    "dog__implements__vertebrate = Node('Model Connection', name='dog implements vertebrate')\n",
    "graph.create(Relationship(dog__implements__vertebrate, IS_A_TYPE_OF, implements))\n",
    "graph.create(Relationship(dog,        IS_THE_SOURCE_OF, dog__implements__vertebrate))\n",
    "graph.create(Relationship(vertebrate, IS_THE_TARGET_OF, dog__implements__vertebrate))\n",
    "\n",
    "organ__composes__animal = Node('Model Connection', name='organ is inside')\n",
    "graph.create(Relationship(organ__composes__animal, IS_A_TYPE_OF, composes))\n",
    "graph.create(Relationship(animal, IS_THE_SOURCE_OF, organ__composes__animal))\n",
    "graph.create(Relationship(organ,  IS_THE_TARGET_OF, organ__composes__animal))\n",
    "\n",
    "has_blood_type = Node('Model Connection', name='has blood type')\n",
    "graph.create(Relationship(has_blood_type, IS_A_TYPE_OF, composes))\n",
    "graph.create(Relationship(animal,     IS_THE_SOURCE_OF, has_blood_type))\n",
    "graph.create(Relationship(blood_type, IS_THE_TARGET_OF, has_blood_type))\n",
    "\n",
    "kidney_is_inside = Node('Model Connection', name='kidney is inside')\n",
    "graph.create(Relationship(kidney_is_inside, IS_A_TYPE_OF, composes))\n",
    "graph.create(Relationship(kidney,     IS_THE_SOURCE_OF, kidney_is_inside))\n",
    "graph.create(Relationship(vertebrate, IS_THE_TARGET_OF, kidney_is_inside))\n",
    "\n",
    "is_friends_with = Node('Model Connection', name='is friends with')\n",
    "graph.create(Relationship(is_friends_with, IS_A_TYPE_OF, connection))\n",
    "graph.create(Relationship(animal, IS_THE_SOURCE_OF, is_friends_with))\n",
    "graph.create(Relationship(animal, IS_THE_SOURCE_OF, is_friends_with))\n",
    "\n",
    "draw(graph, labels=['Model Connection'])"
   ]
  },
  {
   "cell_type": "code",
   "execution_count": 10,
   "metadata": {
    "collapsed": false,
    "scrolled": true,
    "slideshow": {
     "slide_type": "slide"
    }
   },
   "outputs": [
    {
     "data": {
      "text/html": [
       "\n",
       "        <iframe\n",
       "            width=\"100%\"\n",
       "            height=\"400\"\n",
       "            src=\"figure/graph-d8fc279f-5b9a-4da3-9d6f-b7d4e0ebebcf.html\"\n",
       "            frameborder=\"0\"\n",
       "            allowfullscreen\n",
       "        ></iframe>\n",
       "        "
      ],
      "text/plain": [
       "<IPython.lib.display.IFrame at 0x4251a70>"
      ]
     },
     "execution_count": 10,
     "metadata": {},
     "output_type": "execute_result"
    }
   ],
   "source": [
    "draw(graph, labels=['Model Connection', 'Model Element'])"
   ]
  },
  {
   "cell_type": "code",
   "execution_count": 11,
   "metadata": {
    "collapsed": false,
    "scrolled": true,
    "slideshow": {
     "slide_type": "slide"
    }
   },
   "outputs": [
    {
     "data": {
      "text/html": [
       "\n",
       "        <iframe\n",
       "            width=\"100%\"\n",
       "            height=\"400\"\n",
       "            src=\"figure/graph-1ddaf75f-aa15-4bb1-a9b8-22c8509df1c9.html\"\n",
       "            frameborder=\"0\"\n",
       "            allowfullscreen\n",
       "        ></iframe>\n",
       "        "
      ],
      "text/plain": [
       "<IPython.lib.display.IFrame at 0x426ab10>"
      ]
     },
     "execution_count": 11,
     "metadata": {},
     "output_type": "execute_result"
    }
   ],
   "source": [
    "draw(graph)"
   ]
  },
  {
   "cell_type": "markdown",
   "metadata": {
    "slideshow": {
     "slide_type": "slide"
    }
   },
   "source": [
    "## Instance Element\n",
    "\n",
    "Data time!"
   ]
  },
  {
   "cell_type": "code",
   "execution_count": 12,
   "metadata": {
    "collapsed": false,
    "slideshow": {
     "slide_type": "fragment"
    }
   },
   "outputs": [
    {
     "data": {
      "text/html": [
       "\n",
       "        <iframe\n",
       "            width=\"100%\"\n",
       "            height=\"400\"\n",
       "            src=\"figure/graph-84cf7256-e414-45e0-b486-d187a0fbe4b7.html\"\n",
       "            frameborder=\"0\"\n",
       "            allowfullscreen\n",
       "        ></iframe>\n",
       "        "
      ],
      "text/plain": [
       "<IPython.lib.display.IFrame at 0x433e6b0>"
      ]
     },
     "execution_count": 12,
     "metadata": {},
     "output_type": "execute_result"
    }
   ],
   "source": [
    "jack = Node('Instance Element', name='jack')\n",
    "graph.create(Relationship(jack, IS_A_TYPE_OF, human))\n",
    "\n",
    "jill = Node('Instance Element', name='jill')\n",
    "graph.create(Relationship(jill, IS_A_TYPE_OF, human))\n",
    "\n",
    "jasper = Node('Instance Element', name='jasper')\n",
    "graph.create(Relationship(jasper, IS_A_TYPE_OF, dog))\n",
    "\n",
    "jacoby = Node('Instance Element', name='jacoby')\n",
    "graph.create(Relationship(jacoby, IS_A_TYPE_OF, octopus))\n",
    "\n",
    "a_positive = Node('Instance Element', name='A+')\n",
    "graph.create(Relationship(a_positive, IS_A_TYPE_OF, blood_type))\n",
    "\n",
    "b_negative = Node('Instance Element', name='B-')\n",
    "graph.create(Relationship(b_negative, IS_A_TYPE_OF, blood_type))\n",
    "\n",
    "dea_one_point_one_negative = Node('Instance Element', name='dea 1.1-')\n",
    "graph.create(Relationship(dea_one_point_one_negative, IS_A_TYPE_OF, blood_type))\n",
    "\n",
    "invertebrate_blood = Node('Instance Element', name='invertebrate blood')\n",
    "graph.create(Relationship(invertebrate_blood, IS_A_TYPE_OF, blood_type))\n",
    "\n",
    "jill_kidney = Node('Instance Element', name=\"jill's kidney\")\n",
    "graph.create(Relationship(jill_kidney, IS_A_TYPE_OF, kidney))\n",
    "\n",
    "jasper_kidney = Node('Instance Element', name=\"jasper's kidney\")\n",
    "graph.create(Relationship(jasper_kidney, IS_A_TYPE_OF, kidney))\n",
    "\n",
    "draw(graph)"
   ]
  },
  {
   "cell_type": "markdown",
   "metadata": {
    "slideshow": {
     "slide_type": "slide"
    }
   },
   "source": [
    "## Instance Connections\n",
    "\n",
    "Wooooooooooooooooooo!"
   ]
  },
  {
   "cell_type": "code",
   "execution_count": 13,
   "metadata": {
    "collapsed": false,
    "slideshow": {
     "slide_type": "fragment"
    }
   },
   "outputs": [
    {
     "data": {
      "text/html": [
       "\n",
       "        <iframe\n",
       "            width=\"100%\"\n",
       "            height=\"400\"\n",
       "            src=\"figure/graph-af8dd297-87e9-4928-8412-d81e2365a656.html\"\n",
       "            frameborder=\"0\"\n",
       "            allowfullscreen\n",
       "        ></iframe>\n",
       "        "
      ],
      "text/plain": [
       "<IPython.lib.display.IFrame at 0x4979bf0>"
      ]
     },
     "execution_count": 13,
     "metadata": {},
     "output_type": "execute_result"
    }
   ],
   "source": [
    "jack__has_blood_type__a_positive = Node('Instance Connection', name='jack has blood type A+')\n",
    "graph.create(Relationship(jack__has_blood_type__a_positive, IS_A_TYPE_OF, has_blood_type))\n",
    "graph.create(Relationship(jack,       IS_THE_SOURCE_OF, jack__has_blood_type__a_positive))\n",
    "graph.create(Relationship(a_positive, IS_THE_TARGET_OF, jack__has_blood_type__a_positive))\n",
    "\n",
    "jill__has_blood_type__b_negative = Node('Instance Connection', name='jill has blood type B-')\n",
    "graph.create(Relationship(jill__has_blood_type__b_negative, IS_A_TYPE_OF, has_blood_type))\n",
    "graph.create(Relationship(jill,       IS_THE_SOURCE_OF, jill__has_blood_type__b_negative))\n",
    "graph.create(Relationship(b_negative, IS_THE_TARGET_OF, jill__has_blood_type__b_negative))\n",
    "\n",
    "jasper__has_blood_type__dea_one_point_one_negative = Node('Instance Connection', name='jasper has blood type B-')\n",
    "graph.create(Relationship(jasper__has_blood_type__dea_one_point_one_negative, IS_A_TYPE_OF, has_blood_type))\n",
    "graph.create(Relationship(jasper,                     IS_THE_SOURCE_OF, jasper__has_blood_type__dea_one_point_one_negative))\n",
    "graph.create(Relationship(dea_one_point_one_negative, IS_THE_TARGET_OF, jasper__has_blood_type__dea_one_point_one_negative))\n",
    "\n",
    "jacoby__has_blood_type__invertebrate_blood = Node('Instance Connection', name='jacoby has blood type B-')\n",
    "graph.create(Relationship(jacoby__has_blood_type__invertebrate_blood, IS_A_TYPE_OF, has_blood_type))\n",
    "graph.create(Relationship(jacoby,             IS_THE_SOURCE_OF, jacoby__has_blood_type__invertebrate_blood))\n",
    "graph.create(Relationship(invertebrate_blood, IS_THE_TARGET_OF, jacoby__has_blood_type__invertebrate_blood))\n",
    "\n",
    "jack__is_friends_with__jill = Node('Instance Connection', name='jack is friends with jill')\n",
    "graph.create(Relationship(jack__is_friends_with__jill, IS_A_TYPE_OF, is_friends_with))\n",
    "graph.create(Relationship(jack, IS_THE_SOURCE_OF, jack__is_friends_with__jill))\n",
    "graph.create(Relationship(jill, IS_THE_TARGET_OF, jack__is_friends_with__jill))\n",
    "\n",
    "jack__is_friends_with__jasper = Node('Instance Connection', name='jack is friends with jasper')\n",
    "graph.create(Relationship(jack__is_friends_with__jasper, IS_A_TYPE_OF, is_friends_with))\n",
    "graph.create(Relationship(jack,   IS_THE_SOURCE_OF, jack__is_friends_with__jasper))\n",
    "graph.create(Relationship(jasper, IS_THE_TARGET_OF, jack__is_friends_with__jasper))\n",
    "\n",
    "jack__is_friends_with__jacoby = Node('Instance Connection', name='jack is friends with jacoby')\n",
    "graph.create(Relationship(jack__is_friends_with__jacoby, IS_A_TYPE_OF, is_friends_with))\n",
    "graph.create(Relationship(jack,   IS_THE_SOURCE_OF, jack__is_friends_with__jacoby))\n",
    "graph.create(Relationship(jacoby, IS_THE_TARGET_OF, jack__is_friends_with__jacoby))\n",
    "\n",
    "jill_kidney__kidney_is_inside__jill = Node('Instance Connection', name=\"jill's kidney is inside jill\")\n",
    "graph.create(Relationship(jill_kidney__kidney_is_inside__jill, IS_A_TYPE_OF, kidney_is_inside))\n",
    "graph.create(Relationship(jill_kidney, IS_THE_SOURCE_OF, jill_kidney__kidney_is_inside__jill))\n",
    "graph.create(Relationship(jill,        IS_THE_TARGET_OF, jill_kidney__kidney_is_inside__jill))\n",
    "\n",
    "jasper_kidney__kidney_is_inside__jasper = Node('Instance Connection', name=\"jasper's kidney is inside jasper\")\n",
    "graph.create(Relationship(jasper_kidney__kidney_is_inside__jasper, IS_A_TYPE_OF, kidney_is_inside))\n",
    "graph.create(Relationship(jasper_kidney, IS_THE_SOURCE_OF, jasper_kidney__kidney_is_inside__jasper))\n",
    "graph.create(Relationship(jasper,        IS_THE_TARGET_OF, jasper_kidney__kidney_is_inside__jasper))\n",
    "\n",
    "draw(graph, labels=['Instance Element'])"
   ]
  },
  {
   "cell_type": "code",
   "execution_count": 14,
   "metadata": {
    "collapsed": false,
    "scrolled": false,
    "slideshow": {
     "slide_type": "slide"
    }
   },
   "outputs": [
    {
     "data": {
      "text/html": [
       "\n",
       "        <iframe\n",
       "            width=\"100%\"\n",
       "            height=\"400\"\n",
       "            src=\"figure/graph-55833f9b-fadd-4a5c-9409-ae06b029709c.html\"\n",
       "            frameborder=\"0\"\n",
       "            allowfullscreen\n",
       "        ></iframe>\n",
       "        "
      ],
      "text/plain": [
       "<IPython.lib.display.IFrame at 0x4341690>"
      ]
     },
     "execution_count": 14,
     "metadata": {},
     "output_type": "execute_result"
    }
   ],
   "source": [
    "draw(graph, labels=['Instance Element', 'Model Element'])"
   ]
  },
  {
   "cell_type": "code",
   "execution_count": 15,
   "metadata": {
    "collapsed": false,
    "scrolled": true,
    "slideshow": {
     "slide_type": "slide"
    }
   },
   "outputs": [
    {
     "data": {
      "text/html": [
       "\n",
       "        <iframe\n",
       "            width=\"100%\"\n",
       "            height=\"400\"\n",
       "            src=\"figure/graph-5c7bda43-155f-43f7-8c8e-71cdc7045bae.html\"\n",
       "            frameborder=\"0\"\n",
       "            allowfullscreen\n",
       "        ></iframe>\n",
       "        "
      ],
      "text/plain": [
       "<IPython.lib.display.IFrame at 0x4a468b0>"
      ]
     },
     "execution_count": 15,
     "metadata": {},
     "output_type": "execute_result"
    }
   ],
   "source": [
    "draw(graph)"
   ]
  }
 ],
 "metadata": {
  "celltoolbar": "Slideshow",
  "kernelspec": {
   "display_name": "Python 3",
   "language": "python",
   "name": "python3"
  },
  "language_info": {
   "codemirror_mode": {
    "name": "ipython",
    "version": 3
   },
   "file_extension": ".py",
   "mimetype": "text/x-python",
   "name": "python",
   "nbconvert_exporter": "python",
   "pygments_lexer": "ipython3",
   "version": "3.4.3"
  }
 },
 "nbformat": 4,
 "nbformat_minor": 0
}
